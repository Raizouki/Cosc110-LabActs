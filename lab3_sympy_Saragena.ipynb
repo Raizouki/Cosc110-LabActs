{
  "nbformat": 4,
  "nbformat_minor": 0,
  "metadata": {
    "colab": {
      "provenance": [],
      "include_colab_link": true
    },
    "kernelspec": {
      "name": "python3",
      "display_name": "Python 3"
    },
    "language_info": {
      "name": "python"
    }
  },
  "cells": [
    {
      "cell_type": "markdown",
      "metadata": {
        "id": "view-in-github",
        "colab_type": "text"
      },
      "source": [
        "<a href=\"https://colab.research.google.com/github/Raizouki/Cosc110-LabActs/blob/main/lab3_sympy_Saragena.ipynb\" target=\"_parent\"><img src=\"https://colab.research.google.com/assets/colab-badge.svg\" alt=\"Open In Colab\"/></a>"
      ]
    },
    {
      "cell_type": "markdown",
      "source": [
        "## Laboratory Activity #3: Introduction to SymPy\n",
        "\n",
        "###Objectives:\n",
        "- Apply basic symbolic calculations using SymPy"
      ],
      "metadata": {
        "id": "ry6k4qR8H7Bq"
      }
    },
    {
      "cell_type": "markdown",
      "source": [
        "#### Task # 1: Include all necessary sympy modules\n",
        "\n",
        "\n"
      ],
      "metadata": {
        "id": "G_Ua0LKbIPfK"
      }
    },
    {
      "cell_type": "code",
      "execution_count": 1,
      "metadata": {
        "id": "DPFz-qLYHiFJ"
      },
      "outputs": [],
      "source": [
        "# Import the relevant sympy modules\n",
        "from sympy import *"
      ]
    },
    {
      "cell_type": "markdown",
      "source": [
        "#### Task # 2: Basic calculation\n",
        "Solve for the following:\n",
        "\n",
        "- $\\frac{5}{3} + \\frac{\\sqrt{10}}{2}$\n",
        "- $\\sqrt{50} \\times \\sqrt{\\frac{5}{9}}$"
      ],
      "metadata": {
        "id": "3i4pd__LIl1X"
      }
    },
    {
      "cell_type": "code",
      "source": [
        "# Answer for the first expression here\n",
        "result1 = Rational(5, 3) + sqrt(10)/2\n",
        "decimal_result1 = result1.evalf()  # for decimals\n",
        "print(\"Result of (5/3) + (sqrt(10)/2):\", decimal_result1, \"\\nor\")\n",
        "pprint(result1) # to print in mathematical format"
      ],
      "metadata": {
        "id": "Nk9U7XU8RhEH",
        "colab": {
          "base_uri": "https://localhost:8080/"
        },
        "outputId": "84da1e56-db1c-49e2-c73c-70f6205ecda4"
      },
      "execution_count": 2,
      "outputs": [
        {
          "output_type": "stream",
          "name": "stdout",
          "text": [
            "Result of (5/3) + (sqrt(10)/2): 3.24780549675086 \n",
            "or\n",
            "√10   5\n",
            "─── + ─\n",
            " 2    3\n"
          ]
        }
      ]
    },
    {
      "cell_type": "code",
      "source": [
        "# Answer for the first expression here\n",
        "result1 = Rational(5, 3) + sqrt(10)/2\n",
        "decimal_result1 = result1.evalf()  # for decimals\n",
        "print(\"Result of (5/3) + (sqrt(10)/2):\", decimal_result1, \"\\nor\")\n",
        "pprint(result1) # to print in mathematical format"
      ],
      "metadata": {
        "id": "6baME6J6Rgru",
        "colab": {
          "base_uri": "https://localhost:8080/"
        },
        "outputId": "34fc5155-ee33-4bfd-b805-6c6774032bbd"
      },
      "execution_count": 3,
      "outputs": [
        {
          "output_type": "stream",
          "name": "stdout",
          "text": [
            "Result of (5/3) + (sqrt(10)/2): 3.24780549675086 \n",
            "or\n",
            "√10   5\n",
            "─── + ─\n",
            " 2    3\n"
          ]
        }
      ]
    },
    {
      "cell_type": "markdown",
      "source": [
        "#### Task # 3: Symbols\n",
        "Create the equation for the following using `Symbols`:\n",
        "- $2x+3y=12$\n",
        "- $x−y=4$"
      ],
      "metadata": {
        "id": "UH2m4ur7NERn"
      }
    },
    {
      "cell_type": "code",
      "source": [
        "# define symbols\n",
        "x, y = symbols('x y')"
      ],
      "metadata": {
        "id": "4RUw45azRejM"
      },
      "execution_count": 4,
      "outputs": []
    },
    {
      "cell_type": "code",
      "source": [
        "# Answer for the first equation here\n",
        "eq1 = Eq(2*x + 3*y, 12)\n",
        "print(\"Equation 1:\")\n",
        "pprint(eq1)"
      ],
      "metadata": {
        "colab": {
          "base_uri": "https://localhost:8080/"
        },
        "id": "ILu3b54UbGxX",
        "outputId": "cdd5827d-e363-474f-b038-1a4f6992c56d"
      },
      "execution_count": 5,
      "outputs": [
        {
          "output_type": "stream",
          "name": "stdout",
          "text": [
            "Equation 1:\n",
            "2⋅x + 3⋅y = 12\n"
          ]
        }
      ]
    },
    {
      "cell_type": "code",
      "source": [
        "# Answer for the second equation here\n",
        "eq2 = Eq(x - y, 4)\n",
        "print(\"Equation 2:\")\n",
        "pprint(eq2)"
      ],
      "metadata": {
        "id": "nKlN5AeURwI6",
        "colab": {
          "base_uri": "https://localhost:8080/"
        },
        "outputId": "26c00b26-0d2e-47a2-c78c-ec280b885103"
      },
      "execution_count": 6,
      "outputs": [
        {
          "output_type": "stream",
          "name": "stdout",
          "text": [
            "Equation 2:\n",
            "x - y = 4\n"
          ]
        }
      ]
    },
    {
      "cell_type": "markdown",
      "source": [
        "#### Task # 4: Simplification\n",
        "Simplify the following equations using the `simplify` method\n",
        "\n",
        "- $\\frac{x^2 + 2x + 1}{x + 1}$\n",
        "\n",
        "- $\\frac{1 - \\frac{1}{1 + \\frac{1}{x}}}{1 + \\frac{1}{x}}\n",
        "$"
      ],
      "metadata": {
        "id": "IS8vTb7FPDbQ"
      }
    },
    {
      "cell_type": "code",
      "source": [
        "\n",
        "# define symbols\n",
        "x = symbols('x')"
      ],
      "metadata": {
        "id": "98gDsaLbbTEP"
      },
      "execution_count": 7,
      "outputs": []
    },
    {
      "cell_type": "code",
      "source": [
        "# Simplify the first equation here\n",
        "expr1 = (x**2 + 2*x + 1) / (x + 1)\n",
        "simplified_expr1 = simplify(expr1)\n",
        "print(\"Simplified Expression 1:\")\n",
        "print(simplified_expr1)"
      ],
      "metadata": {
        "id": "38CFQlfxR0TV",
        "colab": {
          "base_uri": "https://localhost:8080/"
        },
        "outputId": "6df1c372-3a1a-4ece-a7e5-9f3ff799b2e9"
      },
      "execution_count": 8,
      "outputs": [
        {
          "output_type": "stream",
          "name": "stdout",
          "text": [
            "Simplified Expression 1:\n",
            "x + 1\n"
          ]
        }
      ]
    },
    {
      "cell_type": "code",
      "source": [
        "# Simplify the second equation here\n",
        "expr2 = (1 - (1 / (1 + (1 / x)))) / (1 + (1 / x))\n",
        "simplified_expr2 = simplify(expr2)\n",
        "print(\"Simplified Expression 2:\")\n",
        "pprint(simplified_expr2) # to print in mathematical format"
      ],
      "metadata": {
        "id": "fSi0XQcWR2uo",
        "colab": {
          "base_uri": "https://localhost:8080/"
        },
        "outputId": "25b69271-741f-4c46-d6f8-8347b6425f5a"
      },
      "execution_count": 9,
      "outputs": [
        {
          "output_type": "stream",
          "name": "stdout",
          "text": [
            "Simplified Expression 2:\n",
            "   x    \n",
            "────────\n",
            "       2\n",
            "(x + 1) \n"
          ]
        }
      ]
    },
    {
      "cell_type": "markdown",
      "source": [
        "### Task # 5: Expansion\n",
        "Expand the following expressions using the `expand` method\n",
        "- $(2x + 2)^2$\n",
        "- $(2x + y)(x - 2y)$\n"
      ],
      "metadata": {
        "id": "oXI_LJ-hRR_n"
      }
    },
    {
      "cell_type": "code",
      "source": [
        "# define symbols\n",
        "x, y = symbols('x y')"
      ],
      "metadata": {
        "id": "IjNAkHQrbd9H"
      },
      "execution_count": 10,
      "outputs": []
    },
    {
      "cell_type": "code",
      "source": [
        "# Expand the first equation here\n",
        "expr1 = (2*x + 2)**2\n",
        "expanded_expr1 = expand(expr1)\n",
        "print(\"Expanded Expression 1:\")\n",
        "pprint(expanded_expr1) # to print in mathematical format"
      ],
      "metadata": {
        "id": "OwjWp39uS0Jb",
        "colab": {
          "base_uri": "https://localhost:8080/"
        },
        "outputId": "1a363163-686e-4a23-dde4-7f85d8a93a21"
      },
      "execution_count": 11,
      "outputs": [
        {
          "output_type": "stream",
          "name": "stdout",
          "text": [
            "Expanded Expression 1:\n",
            "   2          \n",
            "4⋅x  + 8⋅x + 4\n"
          ]
        }
      ]
    },
    {
      "cell_type": "code",
      "source": [
        "# Expand the second equation here\n",
        "expr2 = (2*x + y)*(x - 2*y)\n",
        "expanded_expr2 = expand(expr2)\n",
        "print(\"\\nExpanded Expression 2:\")\n",
        "pprint(expanded_expr2) # to print in mathematical format"
      ],
      "metadata": {
        "id": "g-QEmoMCS6TH",
        "colab": {
          "base_uri": "https://localhost:8080/"
        },
        "outputId": "ff1b0ae7-3558-4f4e-cf50-0c55f2ee05c4"
      },
      "execution_count": 12,
      "outputs": [
        {
          "output_type": "stream",
          "name": "stdout",
          "text": [
            "\n",
            "Expanded Expression 2:\n",
            "   2              2\n",
            "2⋅x  - 3⋅x⋅y - 2⋅y \n"
          ]
        }
      ]
    },
    {
      "cell_type": "code",
      "source": [],
      "metadata": {
        "id": "eqiaKbY2bh-a"
      },
      "execution_count": null,
      "outputs": []
    }
  ]
}